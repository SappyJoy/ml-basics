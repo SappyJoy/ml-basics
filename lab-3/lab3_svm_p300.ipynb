{
 "cells": [
  {
   "cell_type": "markdown",
   "id": "c4b2e6f7",
   "metadata": {},
   "source": [
    "# Лабораторная работа №3: Машины опорных векторов для детекции потенциала P300\n",
    "\n",
    "## Введение\n",
    "\n",
    "В данной работе мы используем набор данных moabb для детекции потенциала P300 с помощью машин опорных векторов (SVM). Мы проведем анализ данных, разработаем и обоснуем метод выделения признаков, обучим SVM для определения потенциала P300, рассчитаем метрики качества модели и построим ROC-кривую."
   ]
  },
  {
   "cell_type": "markdown",
   "id": "e3f2b9d2",
   "metadata": {},
   "source": [
    "### Импорт библиотек"
   ]
  },
  {
   "cell_type": "code",
   "execution_count": 9,
   "id": "e5f1b3e0",
   "metadata": {},
   "outputs": [],
   "source": [
    "import numpy as np\n",
    "import pandas as pd\n",
    "import matplotlib.pyplot as plt\n",
    "\n",
    "from moabb.datasets import BNCI2014_008  # Обновленное название класса\n",
    "from moabb.paradigms import P300\n",
    "import mne\n",
    "import warnings\n",
    "\n",
    "# Игнорируем предупреждения\n",
    "warnings.filterwarnings('ignore')"
   ]
  },
  {
   "cell_type": "markdown",
   "id": "e7c4d5b3",
   "metadata": {},
   "source": [
    "### Загрузка данных"
   ]
  },
  {
   "cell_type": "code",
   "execution_count": 10,
   "id": "9646b0db",
   "metadata": {},
   "outputs": [
    {
     "name": "stdout",
     "output_type": "stream",
     "text": [
      "Adding metadata with 3 columns\n",
      "Adding metadata with 3 columns\n",
      "4200 matching events found\n",
      "No baseline correction applied\n"
     ]
    }
   ],
   "source": [
    "# Определяем парадигму P300\n",
    "paradigm = P300()\n",
    "\n",
    "# Загружаем набор данных\n",
    "dataset = BNCI2014_008()  # Обновленное название класса\n",
    "subjects = dataset.subject_list\n",
    "\n",
    "# Получаем данные для первого субъекта\n",
    "X, labels, metadata = paradigm.get_data(dataset=dataset, subjects=[1], return_epochs=True)"
   ]
  },
  {
   "cell_type": "markdown",
   "id": "05f7e8f2",
   "metadata": {},
   "source": [
    "### Просмотр данных"
   ]
  },
  {
   "cell_type": "code",
   "execution_count": 11,
   "id": "38d5f0a4",
   "metadata": {},
   "outputs": [
    {
     "name": "stdout",
     "output_type": "stream",
     "text": [
      "Форма данных X: (4200, 8, 257)\n",
      "Классы меток: ['NonTarget' 'Target']\n"
     ]
    }
   ],
   "source": [
    "print(\"Форма данных X:\", X.get_data().shape)\n",
    "print(\"Классы меток:\", np.unique(labels))"
   ]
  },
  {
   "cell_type": "markdown",
   "id": "ad57c6eb",
   "metadata": {},
   "source": [
    "## Выделение признаков\n",
    "\n",
    "### Анализ данных\n",
    "\n",
    "Потенциал P300 проявляется как положительный пик в ЭЭГ-сигнале примерно через 300 мс после стимула. Для его детекции необходимо выделить информативные признаки из сигналов."
   ]
  },
  {
   "cell_type": "markdown",
   "id": "0b5c2d5d",
   "metadata": {},
   "source": [
    "### Разработка метода выделения признаков"
   ]
  },
  {
   "cell_type": "markdown",
   "id": "df2a8b5d",
   "metadata": {},
   "source": [
    "Мы выберем временное окно от 300 мс до 600 мс и вычислим среднее значение сигнала в этом интервале для каждого канала. Это позволит выделить потенциальное появление P300."
   ]
  },
  {
   "cell_type": "code",
   "execution_count": 12,
   "id": "4a3e0d29",
   "metadata": {},
   "outputs": [
    {
     "ename": "AttributeError",
     "evalue": "'numpy.ndarray' object has no attribute 'values'",
     "output_type": "error",
     "traceback": [
      "\u001b[0;31m---------------------------------------------------------------------------\u001b[0m",
      "\u001b[0;31mAttributeError\u001b[0m                            Traceback (most recent call last)",
      "Cell \u001b[0;32mIn[12], line 3\u001b[0m\n\u001b[1;32m      1\u001b[0m \u001b[38;5;66;03m# Получаем данные и метки\u001b[39;00m\n\u001b[1;32m      2\u001b[0m X_data \u001b[38;5;241m=\u001b[39m X\u001b[38;5;241m.\u001b[39mget_data()\n\u001b[0;32m----> 3\u001b[0m y \u001b[38;5;241m=\u001b[39m \u001b[43mlabels\u001b[49m\u001b[38;5;241;43m.\u001b[39;49m\u001b[43mvalues\u001b[49m\n\u001b[1;32m      5\u001b[0m \u001b[38;5;66;03m# Определяем временные метки\u001b[39;00m\n\u001b[1;32m      6\u001b[0m times \u001b[38;5;241m=\u001b[39m X\u001b[38;5;241m.\u001b[39mtimes\n",
      "\u001b[0;31mAttributeError\u001b[0m: 'numpy.ndarray' object has no attribute 'values'"
     ]
    }
   ],
   "source": [
    "# Получаем данные и метки\n",
    "X_data = X.get_data()\n",
    "y = labels.values\n",
    "\n",
    "# Определяем временные метки\n",
    "times = X.times\n",
    "\n",
    "# Находим индексы для временного окна 300-600 мс\n",
    "t_min = 0.3\n",
    "t_max = 0.6\n",
    "idx_min = np.where(times >= t_min)[0][0]\n",
    "idx_max = np.where(times <= t_max)[0][-1]\n",
    "\n",
    "# Вычисляем среднее значение в заданном окне\n",
    "features = np.mean(X_data[:, :, idx_min:idx_max], axis=2)\n",
    "print(\"Форма матрицы признаков:\", features.shape)"
   ]
  },
  {
   "cell_type": "markdown",
   "id": "b0a6d2f7",
   "metadata": {},
   "source": [
    "## Обучение машины опорных векторов\n",
    "\n",
    "### Обоснование выбора ядра\n",
    "\n",
    "Мы выбираем линейное ядро, так как предполагаем, что признаки линейно разделимы после выделения среднего значения в окне появления P300."
   ]
  },
  {
   "cell_type": "markdown",
   "id": "cc3d8e5f",
   "metadata": {},
   "source": [
    "### Реализация SVM с линейным ядром"
   ]
  },
  {
   "cell_type": "code",
   "execution_count": null,
   "id": "c4f1d0d6",
   "metadata": {},
   "outputs": [],
   "source": [
    "class SVM:\n",
    "    def __init__(self, learning_rate=0.001, lambda_param=0.01, n_iters=1000):\n",
    "        self.lr = learning_rate\n",
    "        self.lambda_param = lambda_param\n",
    "        self.n_iters = n_iters\n",
    "        \n",
    "    def fit(self, X, y):\n",
    "        n_samples, n_features = X.shape\n",
    "        y_ = np.where(y == np.unique(y)[0], -1, 1)\n",
    "        self.w = np.zeros(n_features)\n",
    "        self.b = 0\n",
    "        \n",
    "        for _ in range(self.n_iters):\n",
    "            for idx, x_i in enumerate(X):\n",
    "                condition = y_[idx] * (np.dot(x_i, self.w) - self.b) >= 1\n",
    "                if condition:\n",
    "                    self.w -= self.lr * (2 * self.lambda_param * self.w)\n",
    "                else:\n",
    "                    self.w -= self.lr * (2 * self.lambda_param * self.w - np.dot(x_i, y_[idx]))\n",
    "                    self.b -= self.lr * y_[idx]\n",
    "                        \n",
    "    def predict(self, X):\n",
    "        approx = np.dot(X, self.w) - self.b\n",
    "        return np.sign(approx)"
   ]
  },
  {
   "cell_type": "markdown",
   "id": "5f9e9b27",
   "metadata": {},
   "source": [
    "### Разделение данных на обучающую и тестовую выборки"
   ]
  },
  {
   "cell_type": "code",
   "execution_count": null,
   "id": "0a56c4d7",
   "metadata": {},
   "outputs": [],
   "source": [
    "# Перемешиваем данные\n",
    "np.random.seed(42)\n",
    "indices = np.random.permutation(len(features))\n",
    "features = features[indices]\n",
    "y = y[indices]\n",
    "\n",
    "# Разделяем данные\n",
    "train_size = int(0.8 * len(features))\n",
    "X_train, X_test = features[:train_size], features[train_size:]\n",
    "y_train, y_test = y[:train_size], y[train_size:]"
   ]
  },
  {
   "cell_type": "markdown",
   "id": "8ad3f4e9",
   "metadata": {},
   "source": [
    "### Обучение модели"
   ]
  },
  {
   "cell_type": "code",
   "execution_count": null,
   "id": "07e2f3e4",
   "metadata": {},
   "outputs": [],
   "source": [
    "# Создаем и обучаем модель\n",
    "svm = SVM()\n",
    "svm.fit(X_train, y_train)"
   ]
  },
  {
   "cell_type": "markdown",
   "id": "d8e3b6f0",
   "metadata": {},
   "source": [
    "### Предсказание и оценка модели"
   ]
  },
  {
   "cell_type": "code",
   "execution_count": null,
   "id": "d2f3b8d4",
   "metadata": {},
   "outputs": [],
   "source": [
    "# Получаем предсказания\n",
    "y_pred = svm.predict(X_test)\n",
    "\n",
    "# Преобразуем метки для расчета метрик\n",
    "classes = np.unique(y)\n",
    "y_test_binary = np.where(y_test == classes[0], -1, 1)"
   ]
  },
  {
   "cell_type": "markdown",
   "id": "8c6f4d5a",
   "metadata": {},
   "source": [
    "## Оценка качества модели\n",
    "\n",
    "### Реализация метрик"
   ]
  },
  {
   "cell_type": "code",
   "execution_count": null,
   "id": "f8e3b2d7",
   "metadata": {},
   "outputs": [],
   "source": [
    "def accuracy(y_true, y_pred):\n",
    "    return np.mean(y_true == y_pred)\n",
    "\n",
    "def precision(y_true, y_pred):\n",
    "    tp = np.sum((y_pred == 1) & (y_true == 1))\n",
    "    fp = np.sum((y_pred == 1) & (y_true == -1))\n",
    "    return tp / (tp + fp) if (tp + fp) > 0 else 0\n",
    "\n",
    "def recall(y_true, y_pred):\n",
    "    tp = np.sum((y_pred == 1) & (y_true == 1))\n",
    "    fn = np.sum((y_pred == -1) & (y_true == 1))\n",
    "    return tp / (tp + fn) if (tp + fn) > 0 else 0\n",
    "\n",
    "def f1_score(y_true, y_pred):\n",
    "    p = precision(y_true, y_pred)\n",
    "    r = recall(y_true, y_pred)\n",
    "    return 2 * (p * r) / (p + r) if (p + r) > 0 else 0"
   ]
  },
  {
   "cell_type": "markdown",
   "id": "e3d5b9a2",
   "metadata": {},
   "source": [
    "### Расчет метрик"
   ]
  },
  {
   "cell_type": "code",
   "execution_count": null,
   "id": "2d4e8c0b",
   "metadata": {},
   "outputs": [],
   "source": [
    "acc = accuracy(y_test_binary, y_pred)\n",
    "prec = precision(y_test_binary, y_pred)\n",
    "rec = recall(y_test_binary, y_pred)\n",
    "f1 = f1_score(y_test_binary, y_pred)\n",
    "\n",
    "print(f\"Accuracy: {acc:.2f}\")\n",
    "print(f\"Precision: {prec:.2f}\")\n",
    "print(f\"Recall: {rec:.2f}\")\n",
    "print(f\"F1-Score: {f1:.2f}\")"
   ]
  },
  {
   "cell_type": "markdown",
   "id": "f0a2c7d1",
   "metadata": {},
   "source": [
    "## Построение ROC-кривой\n",
    "\n",
    "### Вычисление показателей для ROC-кривой"
   ]
  },
  {
   "cell_type": "code",
   "execution_count": null,
   "id": "5e3f2a6c",
   "metadata": {},
   "outputs": [],
   "source": [
    "# Получаем оценки решения\n",
    "scores = np.dot(X_test, svm.w) - svm.b\n",
    "\n",
    "# Сортируем по убыванию оценок\n",
    "sorted_indices = np.argsort(-scores)\n",
    "y_true_sorted = y_test_binary[sorted_indices]\n",
    "scores_sorted = scores[sorted_indices]\n",
    "\n",
    "# Вычисляем TPR и FPR\n",
    "tpr = []\n",
    "fpr = []\n",
    "thresholds = np.unique(scores_sorted)\n",
    "P = np.sum(y_test_binary == 1)\n",
    "N = np.sum(y_test_binary == -1)\n",
    "\n",
    "for thresh in thresholds:\n",
    "    y_pred_thresh = np.where(scores_sorted >= thresh, 1, -1)\n",
    "    tp = np.sum((y_pred_thresh == 1) & (y_true_sorted == 1))\n",
    "    fp = np.sum((y_pred_thresh == 1) & (y_true_sorted == -1))\n",
    "    tpr.append(tp / P)\n",
    "    fpr.append(fp / N)"
   ]
  },
  {
   "cell_type": "markdown",
   "id": "6a3e1b5f",
   "metadata": {},
   "source": [
    "### Построение графика ROC-кривой"
   ]
  },
  {
   "cell_type": "code",
   "execution_count": null,
   "id": "b1e2c5d9",
   "metadata": {},
   "outputs": [],
   "source": [
    "plt.figure()\n",
    "plt.plot(fpr, tpr, label='ROC curve')\n",
    "plt.plot([0, 1], [0, 1], 'k--')\n",
    "plt.xlabel('False Positive Rate')\n",
    "plt.ylabel('True Positive Rate')\n",
    "plt.title('ROC-кривая')\n",
    "plt.legend()\n",
    "plt.show()"
   ]
  },
  {
   "cell_type": "markdown",
   "id": "d2b1e5f8",
   "metadata": {},
   "source": [
    "## Заключение\n",
    "\n",
    "В данной лабораторной работе мы успешно реализовали машину опорных векторов без использования библиотек машинного обучения. Мы обосновали выбор линейного ядра для SVM, рассчитали метрики качества модели и построили ROC-кривую для оценки способности модели различать классы."
   ]
  }
 ],
 "metadata": {
  "kernelspec": {
   "display_name": "Python 3",
   "language": "python",
   "name": "python3"
  },
  "language_info": {
   "codemirror_mode": {
    "name": "ipython",
    "version": 3
   },
   "file_extension": ".py",
   "mimetype": "text/x-python",
   "name": "python",
   "nbconvert_exporter": "python",
   "pygments_lexer": "ipython3",
   "version": "3.10.12"
  }
 },
 "nbformat": 4,
 "nbformat_minor": 5
}
