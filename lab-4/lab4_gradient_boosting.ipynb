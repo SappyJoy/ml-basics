{
 "cells": [
  {
   "cell_type": "markdown",
   "id": "introduction",
   "metadata": {},
   "source": [
    "# Лабораторная работа 4: Градиентный бустинг\n",
    "\n",
    "**Набор данных**: [Human Activity Recognition Using Smartphones](http://archive.ics.uci.edu/ml/datasets/Human+Activity+Recognition+Using+Smartphones)\n",
    "\n",
    "**Цель**: Реализовать градиентный бустинг с обоснованием выбора гиперпараметров, посчитать метрики качества (accuracy, precision, recall, F1-меру) и вывести ROC-кривую."
   ]
  },
  {
   "cell_type": "markdown",
   "id": "data-loading",
   "metadata": {},
   "source": [
    "---\n",
    "\n",
    "<a name=\"data-loading\"></a>\n",
    "## 1. Загрузка и предобработка данных"
   ]
  },
  {
   "cell_type": "code",
   "execution_count": 1,
   "id": "data-import",
   "metadata": {},
   "outputs": [],
   "source": [
    "import pandas as pd\n",
    "import numpy as np\n",
    "import matplotlib.pyplot as plt\n",
    "# import urllib.request\n",
    "# import zipfile\n",
    "# import os\n",
    "\n",
    "# dataset_url = 'https://archive.ics.uci.edu/ml/machine-learning-databases/00240/UCI%20HAR%20Dataset.zip'\n",
    "# urllib.request.urlretrieve(dataset_url, 'UCI_HAR_Dataset.zip')\n",
    "\n",
    "# with zipfile.ZipFile('UCI_HAR_Dataset.zip', 'r') as zip_ref:\n",
    "#     zip_ref.extractall('UCI_HAR_Dataset')"
   ]
  },
  {
   "cell_type": "code",
   "execution_count": 2,
   "id": "data-loading-code",
   "metadata": {},
   "outputs": [],
   "source": [
    "X_train = pd.read_csv('UCI HAR Dataset/train/X_train.txt', delim_whitespace=True, header=None)\n",
    "y_train = pd.read_csv('UCI HAR Dataset/train/y_train.txt', delim_whitespace=True, header=None)\n",
    "\n",
    "X_test = pd.read_csv('UCI HAR Dataset/test/X_test.txt', delim_whitespace=True, header=None)\n",
    "y_test = pd.read_csv('UCI HAR Dataset/test/y_test.txt', delim_whitespace=True, header=None)"
   ]
  },
  {
   "cell_type": "markdown",
   "id": "data-preprocessing",
   "metadata": {},
   "source": [
    "### Предобработка данных\n",
    "\n",
    "Для упрощения задачи сконцентрируемся на бинарной классификации, выбрав две активности: `1` (Walking) и `2` (Walking Upstairs)."
   ]
  },
  {
   "cell_type": "code",
   "execution_count": 3,
   "id": "data-preprocessing-code",
   "metadata": {},
   "outputs": [],
   "source": [
    "# Фильтрация данных для классов 1 и 2\n",
    "binary_classes = [1, 2]\n",
    "train_filter = y_train[0].isin(binary_classes)\n",
    "test_filter = y_test[0].isin(binary_classes)\n",
    "\n",
    "X_train_binary = X_train[train_filter.values]\n",
    "y_train_binary = y_train[train_filter.values]\n",
    "X_test_binary = X_test[test_filter.values]\n",
    "y_test_binary = y_test[test_filter.values]\n",
    "\n",
    "# Преобразование меток в 0 и 1\n",
    "y_train_binary = y_train_binary[0].map({1: 0, 2: 1}).values\n",
    "y_test_binary = y_test_binary[0].map({1: 0, 2: 1}).values\n",
    "\n",
    "# Преобразование данных в numpy массивы\n",
    "X_train_binary = X_train_binary.values\n",
    "X_test_binary = X_test_binary.values"
   ]
  },
  {
   "cell_type": "markdown",
   "id": "gradient-boosting",
   "metadata": {},
   "source": [
    "---\n",
    "\n",
    "<a name=\"gradient-boosting\"></a>\n",
    "## 2. Реализация градиентного бустинга"
   ]
  },
  {
   "cell_type": "markdown",
   "id": "decision-stump",
   "metadata": {},
   "source": [
    "<a name=\"decision-stump\"></a>\n",
    "### 2.1. Классификатор Decision Stump\n",
    "\n",
    "Реализуем простой решающий пень (Decision Stump), который будет использоваться в качестве базового алгоритма в градиентном бустинге."
   ]
  },
  {
   "cell_type": "code",
   "execution_count": 4,
   "id": "decision-stump-code",
   "metadata": {},
   "outputs": [],
   "source": [
    "class DecisionStumpRegressor:\n",
    "    def __init__(self):\n",
    "        self.feature_index = None\n",
    "        self.threshold = None\n",
    "        self.left_value = None\n",
    "        self.right_value = None\n",
    "\n",
    "    def fit(self, X, y):\n",
    "        n_samples, n_features = X.shape\n",
    "        min_error = float('inf')\n",
    "\n",
    "        # Перебор всех признаков\n",
    "        for feature_i in range(n_features):\n",
    "            feature_values = X[:, feature_i]\n",
    "            thresholds = np.unique(feature_values)\n",
    "            # Перебор всех возможных порогов\n",
    "            for threshold in thresholds:\n",
    "                left_indices = feature_values < threshold\n",
    "                right_indices = feature_values >= threshold\n",
    "\n",
    "                # Вычисление средних значений для левого и правого узлов\n",
    "                left_mean = np.mean(y[left_indices]) if np.sum(left_indices) > 0 else 0\n",
    "                right_mean = np.mean(y[right_indices]) if np.sum(right_indices) > 0 else 0\n",
    "\n",
    "                # Вычисление ошибки\n",
    "                predictions = np.zeros(n_samples)\n",
    "                predictions[left_indices] = left_mean\n",
    "                predictions[right_indices] = right_mean\n",
    "                error = np.mean((y - predictions) ** 2)\n",
    "\n",
    "                if error < min_error:\n",
    "                    min_error = error\n",
    "                    self.threshold = threshold\n",
    "                    self.feature_index = feature_i\n",
    "                    self.left_value = left_mean\n",
    "                    self.right_value = right_mean\n",
    "\n",
    "    def predict(self, X):\n",
    "        n_samples = X.shape[0]\n",
    "        feature_values = X[:, self.feature_index]\n",
    "        predictions = np.zeros(n_samples)\n",
    "        left_indices = feature_values < self.threshold\n",
    "        right_indices = feature_values >= self.threshold\n",
    "        predictions[left_indices] = self.left_value\n",
    "        predictions[right_indices] = self.right_value\n",
    "        return predictions"
   ]
  },
  {
   "cell_type": "markdown",
   "id": "gb-classifier",
   "metadata": {},
   "source": [
    "<a name=\"gb-classifier\"></a>\n",
    "### 2.2. Классификатор Gradient Boosting\n",
    "\n",
    "Реализуем градиентный бустинг для бинарной классификации с использованием логистической функции потерь."
   ]
  },
  {
   "cell_type": "code",
   "execution_count": 5,
   "id": "gb-classifier-code",
   "metadata": {},
   "outputs": [],
   "source": [
    "class GradientBoostingClassifier:\n",
    "    def __init__(self, n_estimators=10, learning_rate=0.1):\n",
    "        self.n_estimators = n_estimators\n",
    "        self.learning_rate = learning_rate\n",
    "        self.base_learners = []\n",
    "\n",
    "    def fit(self, X, y):\n",
    "        # Инициализация прогнозов\n",
    "        y_pred = np.full(y.shape, np.log(np.sum(y == 1) / np.sum(y == 0)))\n",
    "\n",
    "        for i in range(self.n_estimators):\n",
    "            # Вычисление негативного градиента (остатков)\n",
    "            residual = y - self._sigmoid(y_pred)\n",
    "\n",
    "            # Обучение базового алгоритма на остатках\n",
    "            stump = DecisionStumpRegressor()\n",
    "            stump.fit(X, residual)\n",
    "\n",
    "            # Обновление прогнозов\n",
    "            y_pred += self.learning_rate * stump.predict(X)\n",
    "\n",
    "            # Сохранение базового алгоритма\n",
    "            self.base_learners.append(stump)\n",
    "\n",
    "    def predict_proba(self, X):\n",
    "        y_pred = np.zeros(X.shape[0])\n",
    "        for stump in self.base_learners:\n",
    "            y_pred += self.learning_rate * stump.predict(X)\n",
    "        proba = self._sigmoid(y_pred)\n",
    "        return proba\n",
    "\n",
    "    def predict(self, X):\n",
    "        proba = self.predict_proba(X)\n",
    "        return (proba >= 0.5).astype(int)\n",
    "\n",
    "    def _sigmoid(self, x):\n",
    "        return 1 / (1 + np.exp(-x))"
   ]
  },
  {
   "cell_type": "markdown",
   "id": "hyperparameters",
   "metadata": {},
   "source": [
    "---\n",
    "\n",
    "<a name=\"hyperparameters\"></a>\n",
    "## 3. Обоснование выбора гиперпараметров\n",
    "\n",
    "- **Количество базовых алгоритмов (n_estimators = 10)**: Выбрано для баланса между качеством модели и временем обучения. Большее число базовых алгоритмов может привести к переобучению и увеличению времени обучения.\n",
    "- **Скорость обучения (learning_rate = 0.1)**: Малое значение скорости обучения позволяет модели учиться более плавно и избегать переобучения."
   ]
  },
  {
   "cell_type": "markdown",
   "id": "training",
   "metadata": {},
   "source": [
    "---\n",
    "\n",
    "<a name=\"training\"></a>\n",
    "## 4. Обучение модели"
   ]
  },
  {
   "cell_type": "code",
   "execution_count": 6,
   "id": "training-code",
   "metadata": {},
   "outputs": [],
   "source": [
    "gb_clf = GradientBoostingClassifier(n_estimators=10, learning_rate=0.1)\n",
    "gb_clf.fit(X_train_binary, y_train_binary)"
   ]
  },
  {
   "cell_type": "markdown",
   "id": "evaluation",
   "metadata": {},
   "source": [
    "---\n",
    "\n",
    "<a name=\"evaluation\"></a>\n",
    "## 5. Оценка модели\n",
    "\n",
    "Реализуем функции для расчета метрик качества без использования scikit-learn."
   ]
  },
  {
   "cell_type": "code",
   "execution_count": 7,
   "id": "metrics-code",
   "metadata": {},
   "outputs": [],
   "source": [
    "def accuracy_score(y_true, y_pred):\n",
    "    return np.mean(y_true == y_pred)\n",
    "\n",
    "def precision_score(y_true, y_pred):\n",
    "    true_positive = np.sum((y_true == 1) & (y_pred == 1))\n",
    "    predicted_positive = np.sum(y_pred == 1)\n",
    "    return true_positive / predicted_positive if predicted_positive > 0 else 0\n",
    "\n",
    "def recall_score(y_true, y_pred):\n",
    "    true_positive = np.sum((y_true == 1) & (y_pred == 1))\n",
    "    actual_positive = np.sum(y_true == 1)\n",
    "    return true_positive / actual_positive if actual_positive > 0 else 0\n",
    "\n",
    "def f1_score(y_true, y_pred):\n",
    "    prec = precision_score(y_true, y_pred)\n",
    "    rec = recall_score(y_true, y_pred)\n",
    "    return 2 * (prec * rec) / (prec + rec) if (prec + rec) > 0 else 0"
   ]
  },
  {
   "cell_type": "code",
   "execution_count": 8,
   "id": "evaluation-code",
   "metadata": {},
   "outputs": [
    {
     "name": "stdout",
     "output_type": "stream",
     "text": [
      "Accuracy: 0.8769\n",
      "Precision: 0.9151\n",
      "Recall: 0.8238\n",
      "F1 Score: 0.8670\n"
     ]
    }
   ],
   "source": [
    "# Прогноз на тестовых данных\n",
    "y_pred = gb_clf.predict(X_test_binary)\n",
    "\n",
    "# Расчет метрик\n",
    "accuracy = accuracy_score(y_test_binary, y_pred)\n",
    "precision = precision_score(y_test_binary, y_pred)\n",
    "recall = recall_score(y_test_binary, y_pred)\n",
    "f1 = f1_score(y_test_binary, y_pred)\n",
    "\n",
    "print(f'Accuracy: {accuracy:.4f}')\n",
    "print(f'Precision: {precision:.4f}')\n",
    "print(f'Recall: {recall:.4f}')\n",
    "print(f'F1 Score: {f1:.4f}')"
   ]
  },
  {
   "cell_type": "markdown",
   "id": "roc-curve",
   "metadata": {},
   "source": [
    "---\n",
    "\n",
    "<a name=\"roc-curve\"></a>\n",
    "## 6. Построение ROC-кривой"
   ]
  },
  {
   "cell_type": "code",
   "execution_count": 9,
   "id": "roc-curve-functions",
   "metadata": {},
   "outputs": [],
   "source": [
    "def compute_roc_curve(y_true, y_scores):\n",
    "    thresholds = np.sort(np.unique(y_scores))\n",
    "    tpr_list = []\n",
    "    fpr_list = []\n",
    "\n",
    "    P = np.sum(y_true == 1)\n",
    "    N = np.sum(y_true == 0)\n",
    "\n",
    "    for thresh in thresholds:\n",
    "        y_pred = (y_scores >= thresh).astype(int)\n",
    "        TP = np.sum((y_true == 1) & (y_pred == 1))\n",
    "        FP = np.sum((y_true == 0) & (y_pred == 1))\n",
    "        TPR = TP / P if P > 0 else 0\n",
    "        FPR = FP / N if N > 0 else 0\n",
    "        tpr_list.append(TPR)\n",
    "        fpr_list.append(FPR)\n",
    "\n",
    "    return fpr_list, tpr_list\n",
    "\n",
    "def compute_auc(fpr, tpr):\n",
    "    sorted_indices = np.argsort(fpr)\n",
    "    fpr = np.array(fpr)[sorted_indices]\n",
    "    tpr = np.array(tpr)[sorted_indices]\n",
    "    return np.trapz(tpr, fpr)"
   ]
  },
  {
   "cell_type": "code",
   "execution_count": 10,
   "id": "roc-curve-compute",
   "metadata": {},
   "outputs": [
    {
     "name": "stdout",
     "output_type": "stream",
     "text": [
      "AUC: 0.9453\n"
     ]
    }
   ],
   "source": [
    "# Получение вероятностей\n",
    "y_scores = gb_clf.predict_proba(X_test_binary)\n",
    "\n",
    "# Вычисление ROC-кривой\n",
    "fpr, tpr = compute_roc_curve(y_test_binary, y_scores)\n",
    "\n",
    "# Вычисление AUC\n",
    "auc_value = compute_auc(fpr, tpr)\n",
    "print(f'AUC: {auc_value:.4f}')"
   ]
  },
  {
   "cell_type": "code",
   "execution_count": 11,
   "id": "roc-curve-plot",
   "metadata": {},
   "outputs": [
    {
     "data": {
      "image/png": "[encoded data removed]",
      "text/plain": [
       "<Figure size 800x600 with 1 Axes>"
      ]
     },
     "metadata": {},
     "output_type": "display_data"
    }
   ],
   "source": [
    "plt.figure(figsize=(8,6))\n",
    "plt.plot(fpr, tpr, label=f'ROC curve (AUC = {auc_value:.4f})')\n",
    "plt.plot([0,1], [0,1], 'k--', label='Случайный классификатор')\n",
    "plt.xlabel('False Positive Rate')\n",
    "plt.ylabel('True Positive Rate')\n",
    "plt.title('ROC-кривая')\n",
    "plt.legend(loc='lower right')\n",
    "plt.grid(True)\n",
    "plt.show()"
   ]
  },
  {
   "cell_type": "markdown",
   "id": "conclusion",
   "metadata": {},
   "source": [
    "---\n",
    "\n",
    "**Вывод**: Мы успешно реализовали градиентный бустинг с использованием простых базовых алгоритмов (Decision Stump) и рассчитали метрики качества модели. ROC-кривая и AUC показывают качество работы модели на тестовых данных."
   ]
  }
 ],
 "metadata": {
  "kernelspec": {
   "display_name": "Python 3 (ipykernel)",
   "language": "python",
   "name": "python3"
  },
  "language_info": {
   "codemirror_mode": {
    "name": "ipython",
    "version": 3
   },
   "file_extension": ".py",
   "mimetype": "text/x-python",
   "name": "python",
   "nbconvert_exporter": "python",
   "pygments_lexer": "ipython3",
   "version": "3.10.12"
  }
 },
 "nbformat": 4,
 "nbformat_minor": 5
}
